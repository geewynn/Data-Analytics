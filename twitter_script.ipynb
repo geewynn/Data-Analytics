{
 "cells": [
  {
   "cell_type": "code",
   "execution_count": 90,
   "metadata": {},
   "outputs": [],
   "source": [
    "import pandas as pd\n",
    "import tensorflow as tf\n",
    "import numpy as np\n",
    "from textblob import TextBlob\n",
    "import seaborn as sns"
   ]
  },
  {
   "cell_type": "code",
   "execution_count": 56,
   "metadata": {},
   "outputs": [],
   "source": [
    "import glob, os    \n",
    "df = pd.concat(map(pd.read_csv, glob.glob(os.path.join('', \"*.csv\"))))"
   ]
  },
  {
   "cell_type": "code",
   "execution_count": 57,
   "metadata": {},
   "outputs": [
    {
     "data": {
      "text/html": [
       "<div>\n",
       "<style scoped>\n",
       "    .dataframe tbody tr th:only-of-type {\n",
       "        vertical-align: middle;\n",
       "    }\n",
       "\n",
       "    .dataframe tbody tr th {\n",
       "        vertical-align: top;\n",
       "    }\n",
       "\n",
       "    .dataframe thead th {\n",
       "        text-align: right;\n",
       "    }\n",
       "</style>\n",
       "<table border=\"1\" class=\"dataframe\">\n",
       "  <thead>\n",
       "    <tr style=\"text-align: right;\">\n",
       "      <th></th>\n",
       "      <th>date</th>\n",
       "      <th>username</th>\n",
       "      <th>to</th>\n",
       "      <th>replies</th>\n",
       "      <th>retweets</th>\n",
       "      <th>favorites</th>\n",
       "      <th>text</th>\n",
       "      <th>geo</th>\n",
       "      <th>mentions</th>\n",
       "      <th>hashtags</th>\n",
       "      <th>id</th>\n",
       "      <th>permalink</th>\n",
       "    </tr>\n",
       "  </thead>\n",
       "  <tbody>\n",
       "    <tr>\n",
       "      <td>0</td>\n",
       "      <td>2020-01-30 15:37:38</td>\n",
       "      <td>ibrahim89558604</td>\n",
       "      <td>Peruzi_VIBES</td>\n",
       "      <td>0</td>\n",
       "      <td>0</td>\n",
       "      <td>0</td>\n",
       "      <td>Kabir Ibrahim isa 5760318012 fcmb bank</td>\n",
       "      <td>NaN</td>\n",
       "      <td>NaN</td>\n",
       "      <td>NaN</td>\n",
       "      <td>1222906726107664384</td>\n",
       "      <td>https://twitter.com/ibrahim89558604/status/122...</td>\n",
       "    </tr>\n",
       "    <tr>\n",
       "      <td>1</td>\n",
       "      <td>2020-01-30 14:25:32</td>\n",
       "      <td>YarKafanchan</td>\n",
       "      <td>Hard_Knockks</td>\n",
       "      <td>0</td>\n",
       "      <td>0</td>\n",
       "      <td>1</td>\n",
       "      <td>I also bank with Zenith, excellent bank. FCMB ...</td>\n",
       "      <td>NaN</td>\n",
       "      <td>NaN</td>\n",
       "      <td>NaN</td>\n",
       "      <td>1222888580105822209</td>\n",
       "      <td>https://twitter.com/YarKafanchan/status/122288...</td>\n",
       "    </tr>\n",
       "    <tr>\n",
       "      <td>2</td>\n",
       "      <td>2020-01-30 13:54:23</td>\n",
       "      <td>YarKafanchan</td>\n",
       "      <td>NaN</td>\n",
       "      <td>2</td>\n",
       "      <td>0</td>\n",
       "      <td>4</td>\n",
       "      <td>After this work is done, we are moving our acc...</td>\n",
       "      <td>NaN</td>\n",
       "      <td>@MyFCMB</td>\n",
       "      <td>NaN</td>\n",
       "      <td>1222880742167973888</td>\n",
       "      <td>https://twitter.com/YarKafanchan/status/122288...</td>\n",
       "    </tr>\n",
       "    <tr>\n",
       "      <td>3</td>\n",
       "      <td>2020-01-30 11:34:18</td>\n",
       "      <td>IykeJeenah</td>\n",
       "      <td>obi_cubana</td>\n",
       "      <td>0</td>\n",
       "      <td>0</td>\n",
       "      <td>0</td>\n",
       "      <td>4188591010 Fcmb</td>\n",
       "      <td>NaN</td>\n",
       "      <td>NaN</td>\n",
       "      <td>NaN</td>\n",
       "      <td>1222845486845042689</td>\n",
       "      <td>https://twitter.com/IykeJeenah/status/12228454...</td>\n",
       "    </tr>\n",
       "    <tr>\n",
       "      <td>4</td>\n",
       "      <td>2020-01-30 11:18:31</td>\n",
       "      <td>SIjebu</td>\n",
       "      <td>obi_cubana</td>\n",
       "      <td>0</td>\n",
       "      <td>0</td>\n",
       "      <td>0</td>\n",
       "      <td>2831838019 fcmb sir</td>\n",
       "      <td>NaN</td>\n",
       "      <td>NaN</td>\n",
       "      <td>NaN</td>\n",
       "      <td>1222841515011117056</td>\n",
       "      <td>https://twitter.com/SIjebu/status/122284151501...</td>\n",
       "    </tr>\n",
       "  </tbody>\n",
       "</table>\n",
       "</div>"
      ],
      "text/plain": [
       "                  date         username            to  replies  retweets  \\\n",
       "0  2020-01-30 15:37:38  ibrahim89558604  Peruzi_VIBES        0         0   \n",
       "1  2020-01-30 14:25:32     YarKafanchan  Hard_Knockks        0         0   \n",
       "2  2020-01-30 13:54:23     YarKafanchan           NaN        2         0   \n",
       "3  2020-01-30 11:34:18       IykeJeenah    obi_cubana        0         0   \n",
       "4  2020-01-30 11:18:31           SIjebu    obi_cubana        0         0   \n",
       "\n",
       "   favorites                                               text  geo mentions  \\\n",
       "0          0             Kabir Ibrahim isa 5760318012 fcmb bank  NaN      NaN   \n",
       "1          1  I also bank with Zenith, excellent bank. FCMB ...  NaN      NaN   \n",
       "2          4  After this work is done, we are moving our acc...  NaN  @MyFCMB   \n",
       "3          0                                    4188591010 Fcmb  NaN      NaN   \n",
       "4          0                                2831838019 fcmb sir  NaN      NaN   \n",
       "\n",
       "  hashtags                   id  \\\n",
       "0      NaN  1222906726107664384   \n",
       "1      NaN  1222888580105822209   \n",
       "2      NaN  1222880742167973888   \n",
       "3      NaN  1222845486845042689   \n",
       "4      NaN  1222841515011117056   \n",
       "\n",
       "                                           permalink  \n",
       "0  https://twitter.com/ibrahim89558604/status/122...  \n",
       "1  https://twitter.com/YarKafanchan/status/122288...  \n",
       "2  https://twitter.com/YarKafanchan/status/122288...  \n",
       "3  https://twitter.com/IykeJeenah/status/12228454...  \n",
       "4  https://twitter.com/SIjebu/status/122284151501...  "
      ]
     },
     "execution_count": 57,
     "metadata": {},
     "output_type": "execute_result"
    }
   ],
   "source": [
    "df.head()"
   ]
  },
  {
   "cell_type": "code",
   "execution_count": 58,
   "metadata": {},
   "outputs": [
    {
     "data": {
      "text/plain": [
       "Index(['date', 'username', 'to', 'replies', 'retweets', 'favorites', 'text',\n",
       "       'geo', 'mentions', 'hashtags', 'id', 'permalink'],\n",
       "      dtype='object')"
      ]
     },
     "execution_count": 58,
     "metadata": {},
     "output_type": "execute_result"
    }
   ],
   "source": [
    "df.columns"
   ]
  },
  {
   "cell_type": "code",
   "execution_count": 59,
   "metadata": {},
   "outputs": [],
   "source": [
    "data = df.drop(['replies', 'retweets', 'favorites', \n",
    "                'geo', 'mentions', 'id', 'permalink'], axis=1)"
   ]
  },
  {
   "cell_type": "code",
   "execution_count": 60,
   "metadata": {},
   "outputs": [],
   "source": [
    "data['date'] = pd.to_datetime(data['date'])"
   ]
  },
  {
   "cell_type": "markdown",
   "metadata": {},
   "source": [
    "There are a lot of giveaway tweets and I don't want to drop them because they are useful for sentiment analysis.\n",
    "\n",
    " For now, I have to search and drop giveaway tweets. \n",
    " "
   ]
  },
  {
   "cell_type": "markdown",
   "metadata": {},
   "source": [
    "drop all missing values"
   ]
  },
  {
   "cell_type": "code",
   "execution_count": 61,
   "metadata": {},
   "outputs": [
    {
     "name": "stdout",
     "output_type": "stream",
     "text": [
      "<class 'pandas.core.frame.DataFrame'>\n",
      "Int64Index: 8178 entries, 0 to 1999\n",
      "Data columns (total 5 columns):\n",
      "date        8178 non-null datetime64[ns]\n",
      "username    8178 non-null object\n",
      "to          4091 non-null object\n",
      "text        8140 non-null object\n",
      "hashtags    1630 non-null object\n",
      "dtypes: datetime64[ns](1), object(4)\n",
      "memory usage: 383.3+ KB\n"
     ]
    }
   ],
   "source": [
    "data.info()"
   ]
  },
  {
   "cell_type": "code",
   "execution_count": 62,
   "metadata": {},
   "outputs": [],
   "source": [
    "data = data.dropna(subset=['text'])"
   ]
  },
  {
   "cell_type": "code",
   "execution_count": 63,
   "metadata": {},
   "outputs": [
    {
     "data": {
      "text/plain": [
       "(3871, 6)"
      ]
     },
     "execution_count": 63,
     "metadata": {},
     "output_type": "execute_result"
    }
   ],
   "source": [
    "# first get all tweets that contains number in them. This might be \n",
    "# 3781 rows with numeric features, time to clean them and remove those tweeted for gieaway purpose\n",
    "\n",
    "\n",
    "#create a mask for all the tweets with number in them.\n",
    "data['cat'] = data['text'].str.contains('\\d', regex=True)\n",
    "numeric_data = data[data['cat']  == True]\n",
    "numeric_data.shape"
   ]
  },
  {
   "cell_type": "code",
   "execution_count": 64,
   "metadata": {},
   "outputs": [
    {
     "data": {
      "text/plain": [
       "(4269, 6)"
      ]
     },
     "execution_count": 64,
     "metadata": {},
     "output_type": "execute_result"
    }
   ],
   "source": [
    "non_num = data[data['cat'] == False]\n",
    "non_num.shape"
   ]
  },
  {
   "cell_type": "code",
   "execution_count": 65,
   "metadata": {
    "scrolled": true
   },
   "outputs": [
    {
     "data": {
      "text/plain": [
       "(174, 6)"
      ]
     },
     "execution_count": 65,
     "metadata": {},
     "output_type": "execute_result"
    }
   ],
   "source": [
    "# use to column to check for username tweeted to that are not bank names.\n",
    "# first check tweeted to more than 5\n",
    "# after investigation, majority of tweets contaiining numbers are giveaway tweets, dropping them as over 90% of the tweests are giveaway tweets.\n",
    "#except for the tweets tweeted to banks usernames\n",
    "\n",
    "to_use = ['ZenithBank', 'ZenithBank', 'cenbank', 'FBN_help',\n",
    "          'accessbank_help', 'gtbank', 'gtbank_help', 'UBAGroup',\n",
    "          'myaccessbank', 'MyFCMB', 'Sterling_Bankng', 'StanbicIBTC',\n",
    "          'ChifeDr', 'THISDAYLIVE', 'Chydee', 'abc13houston', 'Mustyjaf']\n",
    "\n",
    "numeric_data = numeric_data[numeric_data.to.isin(to_use)]\n",
    "numeric_data.shape"
   ]
  },
  {
   "cell_type": "code",
   "execution_count": 66,
   "metadata": {},
   "outputs": [
    {
     "data": {
      "text/plain": [
       "(4443, 6)"
      ]
     },
     "execution_count": 66,
     "metadata": {},
     "output_type": "execute_result"
    }
   ],
   "source": [
    "# concatenate the 2 data\n",
    "\n",
    "new_data = pd.concat([non_num, numeric_data])\n",
    "new_data.shape"
   ]
  },
  {
   "cell_type": "code",
   "execution_count": 67,
   "metadata": {},
   "outputs": [
    {
     "data": {
      "text/html": [
       "<div>\n",
       "<style scoped>\n",
       "    .dataframe tbody tr th:only-of-type {\n",
       "        vertical-align: middle;\n",
       "    }\n",
       "\n",
       "    .dataframe tbody tr th {\n",
       "        vertical-align: top;\n",
       "    }\n",
       "\n",
       "    .dataframe thead th {\n",
       "        text-align: right;\n",
       "    }\n",
       "</style>\n",
       "<table border=\"1\" class=\"dataframe\">\n",
       "  <thead>\n",
       "    <tr style=\"text-align: right;\">\n",
       "      <th></th>\n",
       "      <th>date</th>\n",
       "      <th>username</th>\n",
       "      <th>to</th>\n",
       "      <th>text</th>\n",
       "      <th>hashtags</th>\n",
       "      <th>cat</th>\n",
       "    </tr>\n",
       "  </thead>\n",
       "  <tbody>\n",
       "    <tr>\n",
       "      <td>1</td>\n",
       "      <td>2020-01-30 14:25:32</td>\n",
       "      <td>YarKafanchan</td>\n",
       "      <td>Hard_Knockks</td>\n",
       "      <td>I also bank with Zenith, excellent bank. FCMB ...</td>\n",
       "      <td>NaN</td>\n",
       "      <td>False</td>\n",
       "    </tr>\n",
       "    <tr>\n",
       "      <td>2</td>\n",
       "      <td>2020-01-30 13:54:23</td>\n",
       "      <td>YarKafanchan</td>\n",
       "      <td>NaN</td>\n",
       "      <td>After this work is done, we are moving our acc...</td>\n",
       "      <td>NaN</td>\n",
       "      <td>False</td>\n",
       "    </tr>\n",
       "    <tr>\n",
       "      <td>12</td>\n",
       "      <td>2020-01-29 15:01:24</td>\n",
       "      <td>Khalifat_ays__</td>\n",
       "      <td>NaN</td>\n",
       "      <td>This guy followed me from FCMB to Zenith bank,...</td>\n",
       "      <td>NaN</td>\n",
       "      <td>False</td>\n",
       "    </tr>\n",
       "    <tr>\n",
       "      <td>18</td>\n",
       "      <td>2020-01-29 11:43:03</td>\n",
       "      <td>omidanabeni</td>\n",
       "      <td>djcuppymusic</td>\n",
       "      <td>Fcmb #AduraByCapitalTKO</td>\n",
       "      <td>#AduraByCapitalTKO</td>\n",
       "      <td>False</td>\n",
       "    </tr>\n",
       "    <tr>\n",
       "      <td>23</td>\n",
       "      <td>2020-01-29 06:24:10</td>\n",
       "      <td>aceshedy</td>\n",
       "      <td>volqx</td>\n",
       "      <td>Fcmb or zenith bank</td>\n",
       "      <td>NaN</td>\n",
       "      <td>False</td>\n",
       "    </tr>\n",
       "  </tbody>\n",
       "</table>\n",
       "</div>"
      ],
      "text/plain": [
       "                  date        username            to  \\\n",
       "1  2020-01-30 14:25:32    YarKafanchan  Hard_Knockks   \n",
       "2  2020-01-30 13:54:23    YarKafanchan           NaN   \n",
       "12 2020-01-29 15:01:24  Khalifat_ays__           NaN   \n",
       "18 2020-01-29 11:43:03     omidanabeni  djcuppymusic   \n",
       "23 2020-01-29 06:24:10        aceshedy         volqx   \n",
       "\n",
       "                                                 text            hashtags  \\\n",
       "1   I also bank with Zenith, excellent bank. FCMB ...                 NaN   \n",
       "2   After this work is done, we are moving our acc...                 NaN   \n",
       "12  This guy followed me from FCMB to Zenith bank,...                 NaN   \n",
       "18                            Fcmb #AduraByCapitalTKO  #AduraByCapitalTKO   \n",
       "23                                Fcmb or zenith bank                 NaN   \n",
       "\n",
       "      cat  \n",
       "1   False  \n",
       "2   False  \n",
       "12  False  \n",
       "18  False  \n",
       "23  False  "
      ]
     },
     "execution_count": 67,
     "metadata": {},
     "output_type": "execute_result"
    }
   ],
   "source": [
    "new_data.head()"
   ]
  },
  {
   "cell_type": "code",
   "execution_count": 68,
   "metadata": {},
   "outputs": [],
   "source": [
    "#select tweets without hashtags because hashtags are used to trend stuff\n",
    "\n",
    "new_data = new_data[new_data['hashtags'].isna()]"
   ]
  },
  {
   "cell_type": "code",
   "execution_count": 69,
   "metadata": {},
   "outputs": [
    {
     "data": {
      "text/html": [
       "<div>\n",
       "<style scoped>\n",
       "    .dataframe tbody tr th:only-of-type {\n",
       "        vertical-align: middle;\n",
       "    }\n",
       "\n",
       "    .dataframe tbody tr th {\n",
       "        vertical-align: top;\n",
       "    }\n",
       "\n",
       "    .dataframe thead th {\n",
       "        text-align: right;\n",
       "    }\n",
       "</style>\n",
       "<table border=\"1\" class=\"dataframe\">\n",
       "  <thead>\n",
       "    <tr style=\"text-align: right;\">\n",
       "      <th></th>\n",
       "      <th>date</th>\n",
       "      <th>username</th>\n",
       "      <th>to</th>\n",
       "      <th>text</th>\n",
       "      <th>hashtags</th>\n",
       "      <th>cat</th>\n",
       "    </tr>\n",
       "  </thead>\n",
       "  <tbody>\n",
       "    <tr>\n",
       "      <td>1</td>\n",
       "      <td>2020-01-30 14:25:32</td>\n",
       "      <td>YarKafanchan</td>\n",
       "      <td>Hard_Knockks</td>\n",
       "      <td>I also bank with Zenith, excellent bank. FCMB ...</td>\n",
       "      <td>NaN</td>\n",
       "      <td>False</td>\n",
       "    </tr>\n",
       "    <tr>\n",
       "      <td>2</td>\n",
       "      <td>2020-01-30 13:54:23</td>\n",
       "      <td>YarKafanchan</td>\n",
       "      <td>NaN</td>\n",
       "      <td>After this work is done, we are moving our acc...</td>\n",
       "      <td>NaN</td>\n",
       "      <td>False</td>\n",
       "    </tr>\n",
       "    <tr>\n",
       "      <td>12</td>\n",
       "      <td>2020-01-29 15:01:24</td>\n",
       "      <td>Khalifat_ays__</td>\n",
       "      <td>NaN</td>\n",
       "      <td>This guy followed me from FCMB to Zenith bank,...</td>\n",
       "      <td>NaN</td>\n",
       "      <td>False</td>\n",
       "    </tr>\n",
       "    <tr>\n",
       "      <td>23</td>\n",
       "      <td>2020-01-29 06:24:10</td>\n",
       "      <td>aceshedy</td>\n",
       "      <td>volqx</td>\n",
       "      <td>Fcmb or zenith bank</td>\n",
       "      <td>NaN</td>\n",
       "      <td>False</td>\n",
       "    </tr>\n",
       "    <tr>\n",
       "      <td>24</td>\n",
       "      <td>2020-01-28 20:09:18</td>\n",
       "      <td>iam_toluine</td>\n",
       "      <td>NaN</td>\n",
       "      <td>@FBN_help hello first bank. I made a transfer ...</td>\n",
       "      <td>NaN</td>\n",
       "      <td>False</td>\n",
       "    </tr>\n",
       "  </tbody>\n",
       "</table>\n",
       "</div>"
      ],
      "text/plain": [
       "                  date        username            to  \\\n",
       "1  2020-01-30 14:25:32    YarKafanchan  Hard_Knockks   \n",
       "2  2020-01-30 13:54:23    YarKafanchan           NaN   \n",
       "12 2020-01-29 15:01:24  Khalifat_ays__           NaN   \n",
       "23 2020-01-29 06:24:10        aceshedy         volqx   \n",
       "24 2020-01-28 20:09:18     iam_toluine           NaN   \n",
       "\n",
       "                                                 text hashtags    cat  \n",
       "1   I also bank with Zenith, excellent bank. FCMB ...      NaN  False  \n",
       "2   After this work is done, we are moving our acc...      NaN  False  \n",
       "12  This guy followed me from FCMB to Zenith bank,...      NaN  False  \n",
       "23                                Fcmb or zenith bank      NaN  False  \n",
       "24  @FBN_help hello first bank. I made a transfer ...      NaN  False  "
      ]
     },
     "execution_count": 69,
     "metadata": {},
     "output_type": "execute_result"
    }
   ],
   "source": [
    "new_data.head()"
   ]
  },
  {
   "cell_type": "code",
   "execution_count": 70,
   "metadata": {},
   "outputs": [
    {
     "data": {
      "text/plain": [
       "(3794, 6)"
      ]
     },
     "execution_count": 70,
     "metadata": {},
     "output_type": "execute_result"
    }
   ],
   "source": [
    "new_data.shape"
   ]
  },
  {
   "cell_type": "code",
   "execution_count": 71,
   "metadata": {},
   "outputs": [
    {
     "data": {
      "text/html": [
       "<div>\n",
       "<style scoped>\n",
       "    .dataframe tbody tr th:only-of-type {\n",
       "        vertical-align: middle;\n",
       "    }\n",
       "\n",
       "    .dataframe tbody tr th {\n",
       "        vertical-align: top;\n",
       "    }\n",
       "\n",
       "    .dataframe thead th {\n",
       "        text-align: right;\n",
       "    }\n",
       "</style>\n",
       "<table border=\"1\" class=\"dataframe\">\n",
       "  <thead>\n",
       "    <tr style=\"text-align: right;\">\n",
       "      <th></th>\n",
       "      <th>date</th>\n",
       "      <th>text</th>\n",
       "    </tr>\n",
       "  </thead>\n",
       "  <tbody>\n",
       "    <tr>\n",
       "      <td>1</td>\n",
       "      <td>2020-01-30 14:25:32</td>\n",
       "      <td>I also bank with Zenith, excellent bank. FCMB ...</td>\n",
       "    </tr>\n",
       "    <tr>\n",
       "      <td>2</td>\n",
       "      <td>2020-01-30 13:54:23</td>\n",
       "      <td>After this work is done, we are moving our acc...</td>\n",
       "    </tr>\n",
       "    <tr>\n",
       "      <td>12</td>\n",
       "      <td>2020-01-29 15:01:24</td>\n",
       "      <td>This guy followed me from FCMB to Zenith bank,...</td>\n",
       "    </tr>\n",
       "    <tr>\n",
       "      <td>23</td>\n",
       "      <td>2020-01-29 06:24:10</td>\n",
       "      <td>Fcmb or zenith bank</td>\n",
       "    </tr>\n",
       "    <tr>\n",
       "      <td>24</td>\n",
       "      <td>2020-01-28 20:09:18</td>\n",
       "      <td>@FBN_help hello first bank. I made a transfer ...</td>\n",
       "    </tr>\n",
       "  </tbody>\n",
       "</table>\n",
       "</div>"
      ],
      "text/plain": [
       "                  date                                               text\n",
       "1  2020-01-30 14:25:32  I also bank with Zenith, excellent bank. FCMB ...\n",
       "2  2020-01-30 13:54:23  After this work is done, we are moving our acc...\n",
       "12 2020-01-29 15:01:24  This guy followed me from FCMB to Zenith bank,...\n",
       "23 2020-01-29 06:24:10                                Fcmb or zenith bank\n",
       "24 2020-01-28 20:09:18  @FBN_help hello first bank. I made a transfer ..."
      ]
     },
     "execution_count": 71,
     "metadata": {},
     "output_type": "execute_result"
    }
   ],
   "source": [
    "# drop other columns, Only need the date and text columns\n",
    "\n",
    "final_data = new_data[['date', 'text']]\n",
    "final_data.head()"
   ]
  },
  {
   "cell_type": "code",
   "execution_count": 72,
   "metadata": {},
   "outputs": [
    {
     "name": "stderr",
     "output_type": "stream",
     "text": [
      "/home/godwin/anaconda3/lib/python3.6/site-packages/ipykernel_launcher.py:3: SettingWithCopyWarning: \n",
      "A value is trying to be set on a copy of a slice from a DataFrame.\n",
      "Try using .loc[row_indexer,col_indexer] = value instead\n",
      "\n",
      "See the caveats in the documentation: http://pandas.pydata.org/pandas-docs/stable/user_guide/indexing.html#returning-a-view-versus-a-copy\n",
      "  This is separate from the ipykernel package so we can avoid doing imports until\n",
      "/home/godwin/anaconda3/lib/python3.6/site-packages/ipykernel_launcher.py:4: SettingWithCopyWarning: \n",
      "A value is trying to be set on a copy of a slice from a DataFrame.\n",
      "Try using .loc[row_indexer,col_indexer] = value instead\n",
      "\n",
      "See the caveats in the documentation: http://pandas.pydata.org/pandas-docs/stable/user_guide/indexing.html#returning-a-view-versus-a-copy\n",
      "  after removing the cwd from sys.path.\n"
     ]
    }
   ],
   "source": [
    "# remove all non-letter character \n",
    "\n",
    "final_data['text'] = final_data['text'].str.replace('[^a-zA-Z]', ' ')\n",
    "final_data['text'] = final_data['text'].str.lower()"
   ]
  },
  {
   "cell_type": "code",
   "execution_count": 73,
   "metadata": {},
   "outputs": [
    {
     "data": {
      "text/html": [
       "<div>\n",
       "<style scoped>\n",
       "    .dataframe tbody tr th:only-of-type {\n",
       "        vertical-align: middle;\n",
       "    }\n",
       "\n",
       "    .dataframe tbody tr th {\n",
       "        vertical-align: top;\n",
       "    }\n",
       "\n",
       "    .dataframe thead th {\n",
       "        text-align: right;\n",
       "    }\n",
       "</style>\n",
       "<table border=\"1\" class=\"dataframe\">\n",
       "  <thead>\n",
       "    <tr style=\"text-align: right;\">\n",
       "      <th></th>\n",
       "      <th>date</th>\n",
       "      <th>text</th>\n",
       "    </tr>\n",
       "  </thead>\n",
       "  <tbody>\n",
       "    <tr>\n",
       "      <td>1</td>\n",
       "      <td>2020-01-30 14:25:32</td>\n",
       "      <td>i also bank with zenith  excellent bank  fcmb ...</td>\n",
       "    </tr>\n",
       "    <tr>\n",
       "      <td>2</td>\n",
       "      <td>2020-01-30 13:54:23</td>\n",
       "      <td>after this work is done  we are moving our acc...</td>\n",
       "    </tr>\n",
       "    <tr>\n",
       "      <td>12</td>\n",
       "      <td>2020-01-29 15:01:24</td>\n",
       "      <td>this guy followed me from fcmb to zenith bank ...</td>\n",
       "    </tr>\n",
       "    <tr>\n",
       "      <td>23</td>\n",
       "      <td>2020-01-29 06:24:10</td>\n",
       "      <td>fcmb or zenith bank</td>\n",
       "    </tr>\n",
       "    <tr>\n",
       "      <td>24</td>\n",
       "      <td>2020-01-28 20:09:18</td>\n",
       "      <td>fbn help hello first bank  i made a transfer ...</td>\n",
       "    </tr>\n",
       "  </tbody>\n",
       "</table>\n",
       "</div>"
      ],
      "text/plain": [
       "                  date                                               text\n",
       "1  2020-01-30 14:25:32  i also bank with zenith  excellent bank  fcmb ...\n",
       "2  2020-01-30 13:54:23  after this work is done  we are moving our acc...\n",
       "12 2020-01-29 15:01:24  this guy followed me from fcmb to zenith bank ...\n",
       "23 2020-01-29 06:24:10                                fcmb or zenith bank\n",
       "24 2020-01-28 20:09:18   fbn help hello first bank  i made a transfer ..."
      ]
     },
     "execution_count": 73,
     "metadata": {},
     "output_type": "execute_result"
    }
   ],
   "source": [
    "final_data.head()"
   ]
  },
  {
   "cell_type": "code",
   "execution_count": 74,
   "metadata": {},
   "outputs": [
    {
     "name": "stderr",
     "output_type": "stream",
     "text": [
      "/home/godwin/anaconda3/lib/python3.6/site-packages/ipykernel_launcher.py:3: SettingWithCopyWarning: \n",
      "A value is trying to be set on a copy of a slice from a DataFrame.\n",
      "Try using .loc[row_indexer,col_indexer] = value instead\n",
      "\n",
      "See the caveats in the documentation: http://pandas.pydata.org/pandas-docs/stable/user_guide/indexing.html#returning-a-view-versus-a-copy\n",
      "  This is separate from the ipykernel package so we can avoid doing imports until\n"
     ]
    }
   ],
   "source": [
    "# check the length of text\n",
    "\n",
    "final_data['word_count'] = final_data['text'].str.len()"
   ]
  },
  {
   "cell_type": "code",
   "execution_count": 75,
   "metadata": {},
   "outputs": [
    {
     "data": {
      "text/html": [
       "<div>\n",
       "<style scoped>\n",
       "    .dataframe tbody tr th:only-of-type {\n",
       "        vertical-align: middle;\n",
       "    }\n",
       "\n",
       "    .dataframe tbody tr th {\n",
       "        vertical-align: top;\n",
       "    }\n",
       "\n",
       "    .dataframe thead th {\n",
       "        text-align: right;\n",
       "    }\n",
       "</style>\n",
       "<table border=\"1\" class=\"dataframe\">\n",
       "  <thead>\n",
       "    <tr style=\"text-align: right;\">\n",
       "      <th></th>\n",
       "      <th>date</th>\n",
       "      <th>text</th>\n",
       "      <th>word_count</th>\n",
       "    </tr>\n",
       "  </thead>\n",
       "  <tbody>\n",
       "    <tr>\n",
       "      <td>1</td>\n",
       "      <td>2020-01-30 14:25:32</td>\n",
       "      <td>i also bank with zenith  excellent bank  fcmb ...</td>\n",
       "      <td>83</td>\n",
       "    </tr>\n",
       "    <tr>\n",
       "      <td>2</td>\n",
       "      <td>2020-01-30 13:54:23</td>\n",
       "      <td>after this work is done  we are moving our acc...</td>\n",
       "      <td>161</td>\n",
       "    </tr>\n",
       "    <tr>\n",
       "      <td>12</td>\n",
       "      <td>2020-01-29 15:01:24</td>\n",
       "      <td>this guy followed me from fcmb to zenith bank ...</td>\n",
       "      <td>161</td>\n",
       "    </tr>\n",
       "    <tr>\n",
       "      <td>23</td>\n",
       "      <td>2020-01-29 06:24:10</td>\n",
       "      <td>fcmb or zenith bank</td>\n",
       "      <td>19</td>\n",
       "    </tr>\n",
       "    <tr>\n",
       "      <td>24</td>\n",
       "      <td>2020-01-28 20:09:18</td>\n",
       "      <td>fbn help hello first bank  i made a transfer ...</td>\n",
       "      <td>205</td>\n",
       "    </tr>\n",
       "  </tbody>\n",
       "</table>\n",
       "</div>"
      ],
      "text/plain": [
       "                  date                                               text  \\\n",
       "1  2020-01-30 14:25:32  i also bank with zenith  excellent bank  fcmb ...   \n",
       "2  2020-01-30 13:54:23  after this work is done  we are moving our acc...   \n",
       "12 2020-01-29 15:01:24  this guy followed me from fcmb to zenith bank ...   \n",
       "23 2020-01-29 06:24:10                                fcmb or zenith bank   \n",
       "24 2020-01-28 20:09:18   fbn help hello first bank  i made a transfer ...   \n",
       "\n",
       "    word_count  \n",
       "1           83  \n",
       "2          161  \n",
       "12         161  \n",
       "23          19  \n",
       "24         205  "
      ]
     },
     "execution_count": 75,
     "metadata": {},
     "output_type": "execute_result"
    }
   ],
   "source": [
    "final_data.head()"
   ]
  },
  {
   "cell_type": "code",
   "execution_count": 76,
   "metadata": {},
   "outputs": [],
   "source": [
    "# investigate the lower word counts, they might just contain a word or two of the bank\n",
    "#get word count less than 40\n",
    "#drop word count less than 10\n",
    "final_data = final_data.drop(final_data[final_data['word_count'] < 10 ].index)\n",
    "#final_data['word_count'].sort_values(ascending=True)[:100]"
   ]
  },
  {
   "cell_type": "code",
   "execution_count": 77,
   "metadata": {},
   "outputs": [
    {
     "data": {
      "text/plain": [
       "(3300, 3)"
      ]
     },
     "execution_count": 77,
     "metadata": {},
     "output_type": "execute_result"
    }
   ],
   "source": [
    "final_data.shape"
   ]
  },
  {
   "cell_type": "code",
   "execution_count": 78,
   "metadata": {},
   "outputs": [
    {
     "data": {
      "text/html": [
       "<div>\n",
       "<style scoped>\n",
       "    .dataframe tbody tr th:only-of-type {\n",
       "        vertical-align: middle;\n",
       "    }\n",
       "\n",
       "    .dataframe tbody tr th {\n",
       "        vertical-align: top;\n",
       "    }\n",
       "\n",
       "    .dataframe thead th {\n",
       "        text-align: right;\n",
       "    }\n",
       "</style>\n",
       "<table border=\"1\" class=\"dataframe\">\n",
       "  <thead>\n",
       "    <tr style=\"text-align: right;\">\n",
       "      <th></th>\n",
       "      <th>date</th>\n",
       "      <th>text</th>\n",
       "      <th>word_count</th>\n",
       "    </tr>\n",
       "  </thead>\n",
       "  <tbody>\n",
       "    <tr>\n",
       "      <td>2</td>\n",
       "      <td>2020-01-30 13:54:23</td>\n",
       "      <td>after this work is done  we are moving our acc...</td>\n",
       "      <td>161</td>\n",
       "    </tr>\n",
       "    <tr>\n",
       "      <td>12</td>\n",
       "      <td>2020-01-29 15:01:24</td>\n",
       "      <td>this guy followed me from fcmb to zenith bank ...</td>\n",
       "      <td>161</td>\n",
       "    </tr>\n",
       "    <tr>\n",
       "      <td>23</td>\n",
       "      <td>2020-01-29 06:24:10</td>\n",
       "      <td>fcmb or zenith bank</td>\n",
       "      <td>19</td>\n",
       "    </tr>\n",
       "    <tr>\n",
       "      <td>24</td>\n",
       "      <td>2020-01-28 20:09:18</td>\n",
       "      <td>fbn help hello first bank  i made a transfer ...</td>\n",
       "      <td>205</td>\n",
       "    </tr>\n",
       "    <tr>\n",
       "      <td>25</td>\n",
       "      <td>2020-01-28 19:46:11</td>\n",
       "      <td>fcmb suna sa ina kama da mutumiyar banza</td>\n",
       "      <td>40</td>\n",
       "    </tr>\n",
       "  </tbody>\n",
       "</table>\n",
       "</div>"
      ],
      "text/plain": [
       "                  date                                               text  \\\n",
       "2  2020-01-30 13:54:23  after this work is done  we are moving our acc...   \n",
       "12 2020-01-29 15:01:24  this guy followed me from fcmb to zenith bank ...   \n",
       "23 2020-01-29 06:24:10                                fcmb or zenith bank   \n",
       "24 2020-01-28 20:09:18   fbn help hello first bank  i made a transfer ...   \n",
       "25 2020-01-28 19:46:11           fcmb suna sa ina kama da mutumiyar banza   \n",
       "\n",
       "    word_count  \n",
       "2          161  \n",
       "12         161  \n",
       "23          19  \n",
       "24         205  \n",
       "25          40  "
      ]
     },
     "execution_count": 78,
     "metadata": {},
     "output_type": "execute_result"
    }
   ],
   "source": [
    "final_data.head()"
   ]
  },
  {
   "cell_type": "code",
   "execution_count": 79,
   "metadata": {},
   "outputs": [
    {
     "name": "stdout",
     "output_type": "stream",
     "text": [
      "<class 'pandas.core.frame.DataFrame'>\n",
      "Int64Index: 3300 entries, 2 to 1630\n",
      "Data columns (total 3 columns):\n",
      "date          3300 non-null datetime64[ns]\n",
      "text          3300 non-null object\n",
      "word_count    3300 non-null int64\n",
      "dtypes: datetime64[ns](1), int64(1), object(1)\n",
      "memory usage: 103.1+ KB\n"
     ]
    }
   ],
   "source": [
    "final_data.info()"
   ]
  },
  {
   "cell_type": "code",
   "execution_count": 80,
   "metadata": {},
   "outputs": [
    {
     "data": {
      "text/html": [
       "<div>\n",
       "<style scoped>\n",
       "    .dataframe tbody tr th:only-of-type {\n",
       "        vertical-align: middle;\n",
       "    }\n",
       "\n",
       "    .dataframe tbody tr th {\n",
       "        vertical-align: top;\n",
       "    }\n",
       "\n",
       "    .dataframe thead th {\n",
       "        text-align: right;\n",
       "    }\n",
       "</style>\n",
       "<table border=\"1\" class=\"dataframe\">\n",
       "  <thead>\n",
       "    <tr style=\"text-align: right;\">\n",
       "      <th></th>\n",
       "      <th>date</th>\n",
       "      <th>text</th>\n",
       "      <th>word_count</th>\n",
       "      <th>text_polarity</th>\n",
       "    </tr>\n",
       "  </thead>\n",
       "  <tbody>\n",
       "    <tr>\n",
       "      <td>2</td>\n",
       "      <td>2020-01-30 13:54:23</td>\n",
       "      <td>after this work is done  we are moving our acc...</td>\n",
       "      <td>161</td>\n",
       "      <td>-0.60</td>\n",
       "    </tr>\n",
       "    <tr>\n",
       "      <td>12</td>\n",
       "      <td>2020-01-29 15:01:24</td>\n",
       "      <td>this guy followed me from fcmb to zenith bank ...</td>\n",
       "      <td>161</td>\n",
       "      <td>0.00</td>\n",
       "    </tr>\n",
       "    <tr>\n",
       "      <td>23</td>\n",
       "      <td>2020-01-29 06:24:10</td>\n",
       "      <td>fcmb or zenith bank</td>\n",
       "      <td>19</td>\n",
       "      <td>0.00</td>\n",
       "    </tr>\n",
       "    <tr>\n",
       "      <td>24</td>\n",
       "      <td>2020-01-28 20:09:18</td>\n",
       "      <td>fbn help hello first bank  i made a transfer ...</td>\n",
       "      <td>205</td>\n",
       "      <td>0.25</td>\n",
       "    </tr>\n",
       "    <tr>\n",
       "      <td>25</td>\n",
       "      <td>2020-01-28 19:46:11</td>\n",
       "      <td>fcmb suna sa ina kama da mutumiyar banza</td>\n",
       "      <td>40</td>\n",
       "      <td>0.00</td>\n",
       "    </tr>\n",
       "  </tbody>\n",
       "</table>\n",
       "</div>"
      ],
      "text/plain": [
       "                  date                                               text  \\\n",
       "2  2020-01-30 13:54:23  after this work is done  we are moving our acc...   \n",
       "12 2020-01-29 15:01:24  this guy followed me from fcmb to zenith bank ...   \n",
       "23 2020-01-29 06:24:10                                fcmb or zenith bank   \n",
       "24 2020-01-28 20:09:18   fbn help hello first bank  i made a transfer ...   \n",
       "25 2020-01-28 19:46:11           fcmb suna sa ina kama da mutumiyar banza   \n",
       "\n",
       "    word_count  text_polarity  \n",
       "2          161          -0.60  \n",
       "12         161           0.00  \n",
       "23          19           0.00  \n",
       "24         205           0.25  \n",
       "25          40           0.00  "
      ]
     },
     "execution_count": 80,
     "metadata": {},
     "output_type": "execute_result"
    }
   ],
   "source": [
    "final_data['text_polarity'] = final_data['text'].apply(lambda tweet: TextBlob(tweet).sentiment.polarity)\n",
    "\n",
    "final_data.head()"
   ]
  },
  {
   "cell_type": "code",
   "execution_count": 87,
   "metadata": {},
   "outputs": [
    {
     "data": {
      "text/plain": [
       "0"
      ]
     },
     "execution_count": 87,
     "metadata": {},
     "output_type": "execute_result"
    }
   ],
   "source": [
    "final_data['sentiments'].isna().sum()"
   ]
  },
  {
   "cell_type": "code",
   "execution_count": 82,
   "metadata": {},
   "outputs": [],
   "source": [
    "bins = [-2.00, -0.1, 0, 1.00 ]\n",
    "labels = ['negative', 'neutral', 'positive']\n",
    "final_data['sentiments'] = pd.cut(final_data['text_polarity'], bins=bins, labels=labels)"
   ]
  },
  {
   "cell_type": "code",
   "execution_count": 83,
   "metadata": {},
   "outputs": [],
   "source": [
    "final_data = final_data.set_index('date')"
   ]
  },
  {
   "cell_type": "code",
   "execution_count": 84,
   "metadata": {},
   "outputs": [],
   "source": [
    "access = final_data[final_data['text'].str.contains('access bank')]\n",
    "gtb = final_data[final_data['text'].str.contains('gtbank')]\n",
    "zenith = final_data[final_data['text'].str.contains('zenith bank')]\n",
    "uba = final_data[final_data['text'].str.contains('uba bank')]\n",
    "firstbank = final_data[final_data['text'].str.contains('first bank')]\n",
    "fcmb = final_data[final_data['text'].str.contains('fcmb')]\n",
    "union = final_data[final_data['text'].str.contains('union bank')]"
   ]
  },
  {
   "cell_type": "code",
   "execution_count": 85,
   "metadata": {},
   "outputs": [
    {
     "name": "stdout",
     "output_type": "stream",
     "text": [
      "(44, 4)\n",
      "(603, 4)\n",
      "(230, 4)\n",
      "(31, 4)\n",
      "(585, 4)\n",
      "(233, 4)\n",
      "(217, 4)\n"
     ]
    }
   ],
   "source": [
    "print(access.shape)\n",
    "print(gtb.shape)\n",
    "print(zenith.shape)\n",
    "print(uba.shape)\n",
    "print(firstbank.shape)\n",
    "print(fcmb.shape)\n",
    "print(union.shape)"
   ]
  },
  {
   "cell_type": "code",
   "execution_count": 86,
   "metadata": {},
   "outputs": [
    {
     "data": {
      "text/html": [
       "<div>\n",
       "<style scoped>\n",
       "    .dataframe tbody tr th:only-of-type {\n",
       "        vertical-align: middle;\n",
       "    }\n",
       "\n",
       "    .dataframe tbody tr th {\n",
       "        vertical-align: top;\n",
       "    }\n",
       "\n",
       "    .dataframe thead th {\n",
       "        text-align: right;\n",
       "    }\n",
       "</style>\n",
       "<table border=\"1\" class=\"dataframe\">\n",
       "  <thead>\n",
       "    <tr style=\"text-align: right;\">\n",
       "      <th></th>\n",
       "      <th>text</th>\n",
       "      <th>word_count</th>\n",
       "      <th>text_polarity</th>\n",
       "      <th>sentiments</th>\n",
       "    </tr>\n",
       "    <tr>\n",
       "      <th>date</th>\n",
       "      <th></th>\n",
       "      <th></th>\n",
       "      <th></th>\n",
       "      <th></th>\n",
       "    </tr>\n",
       "  </thead>\n",
       "  <tbody>\n",
       "    <tr>\n",
       "      <td>2020-01-10 14:33:06</td>\n",
       "      <td>my biggest regret ever is banking with the wor...</td>\n",
       "      <td>109</td>\n",
       "      <td>-1.00000</td>\n",
       "      <td>negative</td>\n",
       "    </tr>\n",
       "    <tr>\n",
       "      <td>2019-03-12 20:47:40</td>\n",
       "      <td>breaking news  if you have account s  with th...</td>\n",
       "      <td>271</td>\n",
       "      <td>0.05000</td>\n",
       "      <td>positive</td>\n",
       "    </tr>\n",
       "    <tr>\n",
       "      <td>2019-11-11 20:14:11</td>\n",
       "      <td>some of us  it s just access bank  eco bank an...</td>\n",
       "      <td>101</td>\n",
       "      <td>0.00000</td>\n",
       "      <td>neutral</td>\n",
       "    </tr>\n",
       "    <tr>\n",
       "      <td>2019-07-08 17:10:01</td>\n",
       "      <td>no bank in nigeria is safe  diamond bank has b...</td>\n",
       "      <td>227</td>\n",
       "      <td>0.50000</td>\n",
       "      <td>positive</td>\n",
       "    </tr>\n",
       "    <tr>\n",
       "      <td>2019-03-27 09:49:14</td>\n",
       "      <td>so one day  i needed to use the atm  i got to ...</td>\n",
       "      <td>279</td>\n",
       "      <td>-0.40625</td>\n",
       "      <td>negative</td>\n",
       "    </tr>\n",
       "  </tbody>\n",
       "</table>\n",
       "</div>"
      ],
      "text/plain": [
       "                                                                  text  \\\n",
       "date                                                                     \n",
       "2020-01-10 14:33:06  my biggest regret ever is banking with the wor...   \n",
       "2019-03-12 20:47:40   breaking news  if you have account s  with th...   \n",
       "2019-11-11 20:14:11  some of us  it s just access bank  eco bank an...   \n",
       "2019-07-08 17:10:01  no bank in nigeria is safe  diamond bank has b...   \n",
       "2019-03-27 09:49:14  so one day  i needed to use the atm  i got to ...   \n",
       "\n",
       "                     word_count  text_polarity sentiments  \n",
       "date                                                       \n",
       "2020-01-10 14:33:06         109       -1.00000   negative  \n",
       "2019-03-12 20:47:40         271        0.05000   positive  \n",
       "2019-11-11 20:14:11         101        0.00000    neutral  \n",
       "2019-07-08 17:10:01         227        0.50000   positive  \n",
       "2019-03-27 09:49:14         279       -0.40625   negative  "
      ]
     },
     "execution_count": 86,
     "metadata": {},
     "output_type": "execute_result"
    }
   ],
   "source": [
    "access.head()"
   ]
  },
  {
   "cell_type": "code",
   "execution_count": 93,
   "metadata": {},
   "outputs": [
    {
     "data": {
      "text/plain": [
       "date\n",
       "2012-11-30   -0.60000\n",
       "2012-12-31        NaN\n",
       "2013-01-31        NaN\n",
       "2013-02-28        NaN\n",
       "2013-03-31        NaN\n",
       "               ...   \n",
       "2019-09-30        NaN\n",
       "2019-10-31   -0.10000\n",
       "2019-11-30    0.00000\n",
       "2019-12-31    0.14000\n",
       "2020-01-31   -0.07542\n",
       "Freq: M, Name: text_polarity, Length: 87, dtype: float64"
      ]
     },
     "execution_count": 93,
     "metadata": {},
     "output_type": "execute_result"
    }
   ],
   "source": [
    "access['text_polarity'].resample('M').mean()"
   ]
  },
  {
   "cell_type": "code",
   "execution_count": null,
   "metadata": {},
   "outputs": [],
   "source": []
  }
 ],
 "metadata": {
  "kernelspec": {
   "display_name": "Python 3",
   "language": "python",
   "name": "python3"
  },
  "language_info": {
   "codemirror_mode": {
    "name": "ipython",
    "version": 3
   },
   "file_extension": ".py",
   "mimetype": "text/x-python",
   "name": "python",
   "nbconvert_exporter": "python",
   "pygments_lexer": "ipython3",
   "version": "3.6.8"
  }
 },
 "nbformat": 4,
 "nbformat_minor": 2
}
