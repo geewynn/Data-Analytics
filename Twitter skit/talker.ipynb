{
 "cells": [
  {
   "cell_type": "code",
   "execution_count": 31,
   "metadata": {},
   "outputs": [],
   "source": [
    "import pandas as pd\n",
    "import numpy as np"
   ]
  },
  {
   "cell_type": "code",
   "execution_count": 32,
   "metadata": {},
   "outputs": [
    {
     "data": {
      "text/html": [
       "<div>\n",
       "<style scoped>\n",
       "    .dataframe tbody tr th:only-of-type {\n",
       "        vertical-align: middle;\n",
       "    }\n",
       "\n",
       "    .dataframe tbody tr th {\n",
       "        vertical-align: top;\n",
       "    }\n",
       "\n",
       "    .dataframe thead th {\n",
       "        text-align: right;\n",
       "    }\n",
       "</style>\n",
       "<table border=\"1\" class=\"dataframe\">\n",
       "  <thead>\n",
       "    <tr style=\"text-align: right;\">\n",
       "      <th></th>\n",
       "      <th>date</th>\n",
       "      <th>username</th>\n",
       "      <th>to</th>\n",
       "      <th>replies</th>\n",
       "      <th>retweets</th>\n",
       "      <th>favorites</th>\n",
       "      <th>text</th>\n",
       "      <th>geo</th>\n",
       "      <th>mentions</th>\n",
       "      <th>hashtags</th>\n",
       "      <th>id</th>\n",
       "      <th>permalink</th>\n",
       "      <th>type</th>\n",
       "      <th>views</th>\n",
       "    </tr>\n",
       "  </thead>\n",
       "  <tbody>\n",
       "    <tr>\n",
       "      <td>0</td>\n",
       "      <td>2020-02-23 17:19:52</td>\n",
       "      <td>Sydney_Talker</td>\n",
       "      <td>NaN</td>\n",
       "      <td>17</td>\n",
       "      <td>96</td>\n",
       "      <td>516</td>\n",
       "      <td>Questions you’ll need to ask before getting a ...</td>\n",
       "      <td>NaN</td>\n",
       "      <td>NaN</td>\n",
       "      <td>NaN</td>\n",
       "      <td>1.231630e+18</td>\n",
       "      <td>https://twitter.com/Sydney_Talker/status/12316...</td>\n",
       "      <td>picture</td>\n",
       "      <td>0.0</td>\n",
       "    </tr>\n",
       "    <tr>\n",
       "      <td>1</td>\n",
       "      <td>2020-02-23 14:02:14</td>\n",
       "      <td>Sydney_Talker</td>\n",
       "      <td>NaN</td>\n",
       "      <td>118</td>\n",
       "      <td>51</td>\n",
       "      <td>1294</td>\n",
       "      <td>the best upcoming videographer you know Sugges...</td>\n",
       "      <td>NaN</td>\n",
       "      <td>NaN</td>\n",
       "      <td>NaN</td>\n",
       "      <td>1.231580e+18</td>\n",
       "      <td>https://twitter.com/Sydney_Talker/status/12315...</td>\n",
       "      <td>text</td>\n",
       "      <td>0.0</td>\n",
       "    </tr>\n",
       "    <tr>\n",
       "      <td>2</td>\n",
       "      <td>2020-02-22 10:24:33</td>\n",
       "      <td>Sydney_Talker</td>\n",
       "      <td>NaN</td>\n",
       "      <td>105</td>\n",
       "      <td>606</td>\n",
       "      <td>7505</td>\n",
       "      <td>TMG *TOWEL MEN GENG* pic.twitter.com/KUhTsVkG6h</td>\n",
       "      <td>NaN</td>\n",
       "      <td>NaN</td>\n",
       "      <td>NaN</td>\n",
       "      <td>1.231163e+18</td>\n",
       "      <td>https://twitter.com/Sydney_Talker/status/12311...</td>\n",
       "      <td>oicture</td>\n",
       "      <td>0.0</td>\n",
       "    </tr>\n",
       "    <tr>\n",
       "      <td>3</td>\n",
       "      <td>2020-02-21 08:36:14</td>\n",
       "      <td>Sydney_Talker</td>\n",
       "      <td>NaN</td>\n",
       "      <td>1448</td>\n",
       "      <td>10661</td>\n",
       "      <td>33683</td>\n",
       "      <td>When you don’t know how to swimpic.twitter.com...</td>\n",
       "      <td>NaN</td>\n",
       "      <td>NaN</td>\n",
       "      <td>NaN</td>\n",
       "      <td>1.230773e+18</td>\n",
       "      <td>https://twitter.com/Sydney_Talker/status/12307...</td>\n",
       "      <td>video</td>\n",
       "      <td>271400.0</td>\n",
       "    </tr>\n",
       "    <tr>\n",
       "      <td>4</td>\n",
       "      <td>2020-02-20 08:42:06</td>\n",
       "      <td>Sydney_Talker</td>\n",
       "      <td>NaN</td>\n",
       "      <td>151</td>\n",
       "      <td>856</td>\n",
       "      <td>11209</td>\n",
       "      <td>LOVE IS BEYOND WHAT YOU SEEpic.twitter.com/Fm0...</td>\n",
       "      <td>NaN</td>\n",
       "      <td>NaN</td>\n",
       "      <td>NaN</td>\n",
       "      <td>1.230412e+18</td>\n",
       "      <td>https://twitter.com/Sydney_Talker/status/12304...</td>\n",
       "      <td>picture</td>\n",
       "      <td>0.0</td>\n",
       "    </tr>\n",
       "  </tbody>\n",
       "</table>\n",
       "</div>"
      ],
      "text/plain": [
       "                  date       username   to  replies  retweets  favorites  \\\n",
       "0  2020-02-23 17:19:52  Sydney_Talker  NaN       17        96        516   \n",
       "1  2020-02-23 14:02:14  Sydney_Talker  NaN      118        51       1294   \n",
       "2  2020-02-22 10:24:33  Sydney_Talker  NaN      105       606       7505   \n",
       "3  2020-02-21 08:36:14  Sydney_Talker  NaN     1448     10661      33683   \n",
       "4  2020-02-20 08:42:06  Sydney_Talker  NaN      151       856      11209   \n",
       "\n",
       "                                                text  geo mentions hashtags  \\\n",
       "0  Questions you’ll need to ask before getting a ...  NaN      NaN      NaN   \n",
       "1  the best upcoming videographer you know Sugges...  NaN      NaN      NaN   \n",
       "2    TMG *TOWEL MEN GENG* pic.twitter.com/KUhTsVkG6h  NaN      NaN      NaN   \n",
       "3  When you don’t know how to swimpic.twitter.com...  NaN      NaN      NaN   \n",
       "4  LOVE IS BEYOND WHAT YOU SEEpic.twitter.com/Fm0...  NaN      NaN      NaN   \n",
       "\n",
       "             id                                          permalink     type  \\\n",
       "0  1.231630e+18  https://twitter.com/Sydney_Talker/status/12316...  picture   \n",
       "1  1.231580e+18  https://twitter.com/Sydney_Talker/status/12315...     text   \n",
       "2  1.231163e+18  https://twitter.com/Sydney_Talker/status/12311...  oicture   \n",
       "3  1.230773e+18  https://twitter.com/Sydney_Talker/status/12307...    video   \n",
       "4  1.230412e+18  https://twitter.com/Sydney_Talker/status/12304...  picture   \n",
       "\n",
       "      views  \n",
       "0       0.0  \n",
       "1       0.0  \n",
       "2       0.0  \n",
       "3  271400.0  \n",
       "4       0.0  "
      ]
     },
     "execution_count": 32,
     "metadata": {},
     "output_type": "execute_result"
    }
   ],
   "source": [
    "talker = pd.read_csv('talker.csv')\n",
    "talker.head()"
   ]
  },
  {
   "cell_type": "code",
   "execution_count": 35,
   "metadata": {},
   "outputs": [
    {
     "data": {
      "text/plain": [
       "(51, 14)"
      ]
     },
     "execution_count": 35,
     "metadata": {},
     "output_type": "execute_result"
    }
   ],
   "source": [
    "talker.shape"
   ]
  },
  {
   "cell_type": "code",
   "execution_count": 36,
   "metadata": {},
   "outputs": [],
   "source": [
    "def extract_media(df):\n",
    "    \"\"\"\n",
    "    A function that takes in a dataframe and returns another dataframe\n",
    "    containing media file\n",
    "    param: dataframe\n",
    "    return: A new datafram conataining media files \n",
    "    \"\"\"\n",
    "    \n",
    "    df['media'] = df['text'].str.findall(r'pic.\\S+').astype(str).str.extract(r'(pic.twitter.com/,*.)')\n",
    "    df = df[df['media'].notnull()]\n",
    "    return df\n",
    "\n",
    "def extract_video(df):\n",
    "    \"\"\"\n",
    "    Function to extract data where the type is video\n",
    "    params: dataframe \n",
    "    returns: dataframe\n",
    "    \"\"\"\n",
    "    df = df[df['type'] == 'video']\n",
    "    return df\n",
    "\n",
    "def extract_picture(df):\n",
    "    \"\"\"\n",
    "    Funtion thats takes in a dataframe and returns a new df where the tweet type==picture\n",
    "    params: dataframe\n",
    "    return: dataframes\n",
    "    \"\"\"\n",
    "    \n",
    "    df = df[df['type'] == 'picture']\n",
    "    return df"
   ]
  },
  {
   "cell_type": "code",
   "execution_count": 37,
   "metadata": {},
   "outputs": [],
   "source": [
    "talker_df = extract_media(talker)"
   ]
  },
  {
   "cell_type": "code",
   "execution_count": 30,
   "metadata": {},
   "outputs": [],
   "source": [
    "#talker_df.to_csv('talker_df.csv')"
   ]
  },
  {
   "cell_type": "code",
   "execution_count": 42,
   "metadata": {},
   "outputs": [],
   "source": [
    "talker_df = pd.read_csv('talker_df.csv')\n",
    "talker_df.drop('Unnamed: 0', inplace=True, axis=1)"
   ]
  },
  {
   "cell_type": "code",
   "execution_count": null,
   "metadata": {},
   "outputs": [],
   "source": [
    "talker_video = extract_video(talker_df)\n",
    "talker_picture = extract_picture(talker_df)"
   ]
  },
  {
   "cell_type": "code",
   "execution_count": 52,
   "metadata": {},
   "outputs": [
    {
     "data": {
      "text/html": [
       "<div>\n",
       "<style scoped>\n",
       "    .dataframe tbody tr th:only-of-type {\n",
       "        vertical-align: middle;\n",
       "    }\n",
       "\n",
       "    .dataframe tbody tr th {\n",
       "        vertical-align: top;\n",
       "    }\n",
       "\n",
       "    .dataframe thead th {\n",
       "        text-align: right;\n",
       "    }\n",
       "</style>\n",
       "<table border=\"1\" class=\"dataframe\">\n",
       "  <thead>\n",
       "    <tr style=\"text-align: right;\">\n",
       "      <th></th>\n",
       "      <th>date</th>\n",
       "      <th>username</th>\n",
       "      <th>to</th>\n",
       "      <th>replies</th>\n",
       "      <th>retweets</th>\n",
       "      <th>favorites</th>\n",
       "      <th>text</th>\n",
       "      <th>geo</th>\n",
       "      <th>mentions</th>\n",
       "      <th>hashtags</th>\n",
       "      <th>id</th>\n",
       "      <th>permalink</th>\n",
       "      <th>type</th>\n",
       "      <th>views</th>\n",
       "      <th>media</th>\n",
       "    </tr>\n",
       "  </thead>\n",
       "  <tbody>\n",
       "    <tr>\n",
       "      <td>2</td>\n",
       "      <td>2020-02-21 08:36:14</td>\n",
       "      <td>Sydney_Talker</td>\n",
       "      <td>NaN</td>\n",
       "      <td>1448</td>\n",
       "      <td>10661</td>\n",
       "      <td>33683</td>\n",
       "      <td>When you don’t know how to swimpic.twitter.com...</td>\n",
       "      <td>NaN</td>\n",
       "      <td>NaN</td>\n",
       "      <td>NaN</td>\n",
       "      <td>1.230773e+18</td>\n",
       "      <td>https://twitter.com/Sydney_Talker/status/12307...</td>\n",
       "      <td>video</td>\n",
       "      <td>271400</td>\n",
       "      <td>pic.twitter.com/I</td>\n",
       "    </tr>\n",
       "    <tr>\n",
       "      <td>5</td>\n",
       "      <td>2020-02-14 08:18:15</td>\n",
       "      <td>Sydney_Talker</td>\n",
       "      <td>NaN</td>\n",
       "      <td>3908</td>\n",
       "      <td>14743</td>\n",
       "      <td>45138</td>\n",
       "      <td>Where can this kind of love be found #TalkersV...</td>\n",
       "      <td>NaN</td>\n",
       "      <td>NaN</td>\n",
       "      <td>#TalkersValentineSkitpic</td>\n",
       "      <td>1.228232e+18</td>\n",
       "      <td>https://twitter.com/Sydney_Talker/status/12282...</td>\n",
       "      <td>video</td>\n",
       "      <td>427700</td>\n",
       "      <td>pic.twitter.com/3</td>\n",
       "    </tr>\n",
       "    <tr>\n",
       "      <td>6</td>\n",
       "      <td>2020-02-12 20:26:58</td>\n",
       "      <td>Sydney_Talker</td>\n",
       "      <td>NaN</td>\n",
       "      <td>337</td>\n",
       "      <td>2022</td>\n",
       "      <td>6950</td>\n",
       "      <td>Some Ushers can really make me feel like this ...</td>\n",
       "      <td>NaN</td>\n",
       "      <td>NaN</td>\n",
       "      <td>NaN</td>\n",
       "      <td>1.227691e+18</td>\n",
       "      <td>https://twitter.com/Sydney_Talker/status/12276...</td>\n",
       "      <td>video</td>\n",
       "      <td>56200</td>\n",
       "      <td>pic.twitter.com/V</td>\n",
       "    </tr>\n",
       "    <tr>\n",
       "      <td>7</td>\n",
       "      <td>2020-02-12 12:34:56</td>\n",
       "      <td>Sydney_Talker</td>\n",
       "      <td>NaN</td>\n",
       "      <td>161</td>\n",
       "      <td>1800</td>\n",
       "      <td>7992</td>\n",
       "      <td>E sure me say there are many people on this tw...</td>\n",
       "      <td>NaN</td>\n",
       "      <td>NaN</td>\n",
       "      <td>#OG2020pic</td>\n",
       "      <td>1.227572e+18</td>\n",
       "      <td>https://twitter.com/Sydney_Talker/status/12275...</td>\n",
       "      <td>video</td>\n",
       "      <td>52900</td>\n",
       "      <td>pic.twitter.com/r</td>\n",
       "    </tr>\n",
       "    <tr>\n",
       "      <td>8</td>\n",
       "      <td>2020-02-06 08:13:31</td>\n",
       "      <td>Sydney_Talker</td>\n",
       "      <td>NaN</td>\n",
       "      <td>531</td>\n",
       "      <td>5594</td>\n",
       "      <td>21134</td>\n",
       "      <td>Time waits for nobody!pic.twitter.com/bmXCIGyAOY</td>\n",
       "      <td>NaN</td>\n",
       "      <td>NaN</td>\n",
       "      <td>NaN</td>\n",
       "      <td>1.225332e+18</td>\n",
       "      <td>https://twitter.com/Sydney_Talker/status/12253...</td>\n",
       "      <td>video</td>\n",
       "      <td>143400</td>\n",
       "      <td>pic.twitter.com/b</td>\n",
       "    </tr>\n",
       "  </tbody>\n",
       "</table>\n",
       "</div>"
      ],
      "text/plain": [
       "                  date       username  to  replies  retweets  favorites  \\\n",
       "2  2020-02-21 08:36:14  Sydney_Talker NaN     1448     10661      33683   \n",
       "5  2020-02-14 08:18:15  Sydney_Talker NaN     3908     14743      45138   \n",
       "6  2020-02-12 20:26:58  Sydney_Talker NaN      337      2022       6950   \n",
       "7  2020-02-12 12:34:56  Sydney_Talker NaN      161      1800       7992   \n",
       "8  2020-02-06 08:13:31  Sydney_Talker NaN      531      5594      21134   \n",
       "\n",
       "                                                text  geo  mentions  \\\n",
       "2  When you don’t know how to swimpic.twitter.com...  NaN       NaN   \n",
       "5  Where can this kind of love be found #TalkersV...  NaN       NaN   \n",
       "6  Some Ushers can really make me feel like this ...  NaN       NaN   \n",
       "7  E sure me say there are many people on this tw...  NaN       NaN   \n",
       "8   Time waits for nobody!pic.twitter.com/bmXCIGyAOY  NaN       NaN   \n",
       "\n",
       "                   hashtags            id  \\\n",
       "2                       NaN  1.230773e+18   \n",
       "5  #TalkersValentineSkitpic  1.228232e+18   \n",
       "6                       NaN  1.227691e+18   \n",
       "7                #OG2020pic  1.227572e+18   \n",
       "8                       NaN  1.225332e+18   \n",
       "\n",
       "                                           permalink   type   views  \\\n",
       "2  https://twitter.com/Sydney_Talker/status/12307...  video  271400   \n",
       "5  https://twitter.com/Sydney_Talker/status/12282...  video  427700   \n",
       "6  https://twitter.com/Sydney_Talker/status/12276...  video   56200   \n",
       "7  https://twitter.com/Sydney_Talker/status/12275...  video   52900   \n",
       "8  https://twitter.com/Sydney_Talker/status/12253...  video  143400   \n",
       "\n",
       "               media  \n",
       "2  pic.twitter.com/I  \n",
       "5  pic.twitter.com/3  \n",
       "6  pic.twitter.com/V  \n",
       "7  pic.twitter.com/r  \n",
       "8  pic.twitter.com/b  "
      ]
     },
     "execution_count": 52,
     "metadata": {},
     "output_type": "execute_result"
    }
   ],
   "source": [
    "talker_video.head()"
   ]
  },
  {
   "cell_type": "code",
   "execution_count": 57,
   "metadata": {},
   "outputs": [
    {
     "name": "stdout",
     "output_type": "stream",
     "text": [
      "Talker total retweets is 71175\n"
     ]
    }
   ],
   "source": [
    "talker_total_ret = talker_video['retweets'].sum()\n",
    "print('Talker total retweets from jan 1st to feb 23rd is {}'.format(talker_total_ret))"
   ]
  },
  {
   "cell_type": "code",
   "execution_count": 58,
   "metadata": {},
   "outputs": [
    {
     "name": "stdout",
     "output_type": "stream",
     "text": [
      "Talker total replies is 11695\n"
     ]
    }
   ],
   "source": [
    "talker_total_replies = talker_video['replies'].sum()\n",
    "print('Talker total replies is {}'.format(talker_total_replies))"
   ]
  },
  {
   "cell_type": "code",
   "execution_count": 59,
   "metadata": {},
   "outputs": [
    {
     "name": "stdout",
     "output_type": "stream",
     "text": [
      "Talker total favorites is 245127\n"
     ]
    }
   ],
   "source": [
    "talker_total_fav = talker_video['favorites'].sum()\n",
    "print('Talker total favorites is {}'.format(talker_total_fav))"
   ]
  },
  {
   "cell_type": "code",
   "execution_count": 60,
   "metadata": {},
   "outputs": [
    {
     "name": "stdout",
     "output_type": "stream",
     "text": [
      "Talker total video views is 1971000\n"
     ]
    }
   ],
   "source": [
    "talker_video_views = talker_video['views'].sum()\n",
    "print('Talker total video views is {}'.format(talker_video_views))"
   ]
  },
  {
   "cell_type": "code",
   "execution_count": 63,
   "metadata": {},
   "outputs": [],
   "source": [
    "def personal_metric(df):\n",
    "    total_retweet = df['retweets'].sum()\n",
    "    print('Total retweets from jan 1st to feb 23rd is {}'.format(total_retweet))\n",
    "    \n",
    "    total_replies = df['replies'].sum()\n",
    "    print('Total replies is {}'.format(total_replies))\n",
    "    \n",
    "    total_fav = df['favorites'].sum()\n",
    "    print('Total favorites is {}'.format(total_fav))\n",
    "    \n",
    "    total_video_views = df['views'].sum()\n",
    "    print('Total video views is {}'.format(total_video_views))"
   ]
  },
  {
   "cell_type": "code",
   "execution_count": 64,
   "metadata": {},
   "outputs": [
    {
     "name": "stdout",
     "output_type": "stream",
     "text": [
      "Total retweets from jan 1st to feb 23rd is 71175\n",
      "Total replies is 11695\n",
      "Total favorites is 245127\n",
      "Total video views is 1971000\n"
     ]
    }
   ],
   "source": [
    "personal_metric(talker_video)"
   ]
  },
  {
   "cell_type": "code",
   "execution_count": 65,
   "metadata": {},
   "outputs": [
    {
     "name": "stdout",
     "output_type": "stream",
     "text": [
      "Total retweets from jan 1st to feb 23rd is 5864\n",
      "Total replies is 1572\n",
      "Total favorites is 71986\n",
      "Total video views is 0\n"
     ]
    }
   ],
   "source": [
    "personal_metric(talker_picture)"
   ]
  },
  {
   "cell_type": "code",
   "execution_count": null,
   "metadata": {},
   "outputs": [],
   "source": []
  }
 ],
 "metadata": {
  "kernelspec": {
   "display_name": "Python 3",
   "language": "python",
   "name": "python3"
  },
  "language_info": {
   "codemirror_mode": {
    "name": "ipython",
    "version": 3
   },
   "file_extension": ".py",
   "mimetype": "text/x-python",
   "name": "python",
   "nbconvert_exporter": "python",
   "pygments_lexer": "ipython3",
   "version": "3.6.8"
  }
 },
 "nbformat": 4,
 "nbformat_minor": 2
}
